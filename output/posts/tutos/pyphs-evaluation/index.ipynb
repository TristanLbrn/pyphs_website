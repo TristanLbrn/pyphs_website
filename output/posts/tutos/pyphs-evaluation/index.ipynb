{
 "cells": [
  {
   "cell_type": "markdown",
   "metadata": {},
   "source": [
    "In this tutorial, we cover the `pyphs.Evaluation` object for the numerical evaluation of `pyphs.Core` objects. The core object from the previous tutorial on [`pyphs.Core`](https://afalaize.github.io/pyphs/posts/tutos/pyphs-core/) is used as an example.\n",
    "\n",
    "<!-- TEASER_END -->\n",
    "\n",
    "The corresponding Python script `pyphs-evaluation.py` can be found in the tutorials at `\\pyphs\\tutorials\\`"
   ]
  },
  {
   "cell_type": "code",
   "execution_count": 1,
   "metadata": {
    "collapsed": false
   },
   "outputs": [
    {
     "name": "stdout",
     "output_type": "stream",
     "text": [
      "Remove Inverse of Parameters...\n",
      "Build numerical evaluations...\n"
     ]
    }
   ],
   "source": [
    "# Support for Python 2.x and Python 3.x\n",
    "from __future__ import division, print_function, absolute_import\n",
    "\n",
    "# retrieve the pyphs.Core of a nonlinear RLC from the previous tutorial\n",
    "from pyphs.tutorials.core import core\n",
    "\n",
    "# load the pyphs.Evaluation class in the current namespace\n",
    "from pyphs import Evaluation\n",
    "\n",
    "# instantiate a pyphs.Evaluation object associated with a pyphs.PHSCore\n",
    "evals = Evaluation(core)"
   ]
  },
  {
   "cell_type": "markdown",
   "metadata": {},
   "source": [
    "The object `evals` contains all numerical versions for all the function from the original `core`. The arguments are $\\mathbf x, \\, \\delta \\mathbf x, \\, \\mathbf w, \\, \\mathbf u, \\, \\mathbf p$, as returned by the function `core.args`:"
   ]
  },
  {
   "cell_type": "code",
   "execution_count": 2,
   "metadata": {
    "collapsed": false
   },
   "outputs": [
    {
     "data": {
      "text/plain": [
       "[xL, xK, xM, dxL, dxK, dxM, v1]"
      ]
     },
     "execution_count": 2,
     "metadata": {},
     "output_type": "execute_result"
    }
   ],
   "source": [
    "evals.args()"
   ]
  },
  {
   "cell_type": "code",
   "execution_count": 3,
   "metadata": {
    "collapsed": false
   },
   "outputs": [
    {
     "name": "stdout",
     "output_type": "stream",
     "text": [
      "H(xL, xK, xM) = 8000.000669258373\n"
     ]
    }
   ],
   "source": [
    "# values for arguments\n",
    "x = [5e-4, 2e-2]\n",
    "dx = [5e-3, 2e-1]\n",
    "w = [5e-3, ]\n",
    "u = [1.5, ]\n",
    "\n",
    "# collect all arguments\n",
    "args = x + dx + w + u\n",
    "\n",
    "# retrieve values for arguments of the Hamiltonian function\n",
    "args_H = [args[i] for i in evals.H_inds]\n",
    "\n",
    "# numerical evaluations of the Hamiltonian function\n",
    "H = evals.H(*args_H)\n",
    "# print \"H(xL, xC) = 3947.84176069\"\n",
    "print('{}{} = {}'.format('H', evals.H_args, H))"
   ]
  },
  {
   "cell_type": "code",
   "execution_count": 4,
   "metadata": {
    "collapsed": false
   },
   "outputs": [
    {
     "name": "stdout",
     "output_type": "stream",
     "text": [
      "H(xL, xK, xM) = 8000.000669258373\n",
      "\n",
      "dxH(xL, xK, xM) = \n",
      " [  4.54545455e-02   8.00000000e+05   2.63157895e-01]\n",
      "\n",
      "z() = \n",
      " []\n",
      "\n",
      "Jxx(xK,) = \n",
      " [[ 0.          0.          2.98880424]\n",
      " [ 0.          0.          1.        ]\n",
      " [-2.98880424 -1.          0.        ]]\n",
      "\n",
      "Rxx() = \n",
      " [[ 5.7    0.     0.   ]\n",
      " [ 0.     0.     0.   ]\n",
      " [ 0.     0.     0.406]]\n"
     ]
    },
    {
     "data": {
      "text/plain": [
       "array([  3.20002632e+08,   5.00003230e+08,   7.20003971e+08])"
      ]
     },
     "execution_count": 4,
     "metadata": {},
     "output_type": "execute_result"
    }
   ],
   "source": [
    "# print \"H(xL, xC) = 3947.84176069\"\n",
    "print('{}{} = {}'.format('H', evals.H_args, H))\n",
    "\n",
    "# Same as above for a list of PHScore expressions and matrices\n",
    "for name in ('dxH', 'z', 'Jxx', 'Rxx'):\n",
    "\n",
    "    # retrieve the function to evaluate\n",
    "    func = getattr(evals, name)\n",
    "\n",
    "    # retrieve the ordered list of symbols for arguments\n",
    "    func_args = getattr(evals, name + '_args')\n",
    "\n",
    "    # retrieve the indices of symbols for arguments in the global args vector\n",
    "    func_inds = getattr(evals, name + '_inds')\n",
    "\n",
    "    # retrieve the values for arguments\n",
    "    func_args_vals = [args[i] for i in func_inds]\n",
    "\n",
    "    # evaluate the function with arguments values\n",
    "    func_eval = func(*func_args_vals)\n",
    "\n",
    "    # print e.g. \"z() = \"\n",
    "    print('\\n{}{} = \\n'.format(name, func_args), func_eval)\n",
    "\n",
    "\n",
    "# Notice function are vectorized:\n",
    "x1, x2, x3 = range(0, 3), range(4, 7), range(10, 13) \n",
    "evals.H(x1, x2, x3)"
   ]
  },
  {
   "cell_type": "code",
   "execution_count": 5,
   "metadata": {
    "collapsed": false
   },
   "outputs": [
    {
     "name": "stdout",
     "output_type": "stream",
     "text": [
      "\n",
      "Vectorized (not parallel) evaluation:\n",
      "x1=range(0, 3), x2=range(4, 7), x3=range(10, 13)\n",
      "H(x1, x2, x3)=[  3.20002632e+08   5.00003230e+08   7.20003971e+08]\n"
     ]
    }
   ],
   "source": [
    "print(\"\\nVectorized (not parallel) evaluation:\\nx1={}, x2={}, x3={}\".format(x1, x2, x3))\n",
    "print(\"H(x1, x2, x3)={}\".format(evals.H(x1, x2, x3)))"
   ]
  },
  {
   "cell_type": "code",
   "execution_count": null,
   "metadata": {
    "collapsed": true
   },
   "outputs": [],
   "source": []
  }
 ],
 "metadata": {
  "anaconda-cloud": {},
  "kernelspec": {
   "display_name": "Python [Root]",
   "language": "python",
   "name": "Python [Root]"
  },
  "language_info": {
   "codemirror_mode": {
    "name": "ipython",
    "version": 3
   },
   "file_extension": ".py",
   "mimetype": "text/x-python",
   "name": "python",
   "nbconvert_exporter": "python",
   "pygments_lexer": "ipython3",
   "version": "3.5.2"
  }
 },
 "nbformat": 4,
 "nbformat_minor": 0
}
